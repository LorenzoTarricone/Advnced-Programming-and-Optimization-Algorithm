{
  "nbformat": 4,
  "nbformat_minor": 0,
  "metadata": {
    "colab": {
      "name": "Tarricone2.ipynb",
      "provenance": [],
      "toc_visible": true,
      "authorship_tag": "ABX9TyPam+Uc5JoFMwT5ZHqMJC54",
      "include_colab_link": true
    },
    "kernelspec": {
      "name": "python3",
      "display_name": "Python 3"
    },
    "language_info": {
      "name": "python"
    }
  },
  "cells": [
    {
      "cell_type": "markdown",
      "metadata": {
        "id": "view-in-github",
        "colab_type": "text"
      },
      "source": [
        "<a href=\"https://colab.research.google.com/github/LorenzoTarricone/Advnced-Programming-and-Optimization-Algorithm/blob/main/Tarricone2.ipynb\" target=\"_parent\"><img src=\"https://colab.research.google.com/assets/colab-badge.svg\" alt=\"Open In Colab\"/></a>"
      ]
    },
    {
      "cell_type": "markdown",
      "source": [
        "#Programming assignment 2\n",
        "Consider a set of pictures from 360° camera mounted inside a merry-go-round. They were taken at night and only one seat is visible which emits light – the seat in the shape of a jelly fish. We know that the merry-go-round rotates clockwise and that all the pictures were taken during a single cycle of merry-go-round. Given that the first picture is P1, your task is to sort the rest in the chronological order. Assume that the move of jelly fish is monotonous in horizontal direction, i.e., it always moves in clockwise direction, never backwards.\n",
        "\n",
        "Input files: text files, each of them with 10 rows and 80 columns representing the brightness level in the given parts of the picture. Jelly fish can be recognized by high brightness (value 1 to 9) on a black background (value 0).\n",
        "\n",
        "```\n",
        "00000000000000000000000000000000000000000000000000000000000000000000000000000000\n",
        "00000000000000000000000000000000000000000000000000000000000000000000000000000000\n",
        "00000000000000000000000000000000000000000000000000000000000000000000000000000000\n",
        "00000000000000000000000000000000000000000000000000000000000000000000000000000000\n",
        "00000000000000000000000000000000000000000000000000000000000000000000000000000000\n",
        "00000000000000000000000000000000000005950000000000000000000000000000000000000000\n",
        "00000000000000000000000000000000000009990000000000000000000000000000000000000000\n",
        "00000000000000000000000000000000000005950000000000000000000000000000000000000000\n",
        "00000000000000000000000000000000000003930000000000000000000000000000000000000000\n",
        "00000000000000000000000000000000000000000000000000000000000000000000000000000000\n",
        "```\n",
        "###Directions\n",
        "In order to capture the movement of the jelly fish between two pictures, use Earth-mover distance, also known as Wasserstein distance. It can be formulated as a min-cost flow problem on a certain network. Use NetworkX package (https://networkx.org) to perform the optimization required to find this flow.\n",
        "\n",
        "About Earth-mover distance: Consider two distributions over a discrete set of points $P$: $μ$ in $[0,1]^P$ and $λ$ in $[0,1]^P$. Since both are distributions and sum of $μ(p)$ over all points in $P$ is $1$ (and the same holds for $λ$), there is surely a way to transform $μ$ into $λ$: we denote $f_{p,q}$ the probability mass transfered from point $p$ to $q$ for each pair of points $p,q$ from $P$, in order to transform $μ$ into $λ$:\n",
        "\n",
        "For each $p$ in $P$: $μ(p) = \\sum q f_{p,q}$ and for each $q$ in $P$: $λ(q) = Σ\n",
        "\\sum p f_{p,q}$.\n",
        "\n",
        "Note that $f_{p,p}$ denotes the probability mass which remains at the same place.\n",
        "Let $d(p,q)$ denote the distance between $p$ and $q$. Then, the cost of the transformation $f$ is\n",
        "\n",
        "$\\sum\\limits_{p,q} d(p,q) f_{p,q}$\n",
        "\n",
        "The earth-mover distance of μ and λ is then the cost of the cheapest transformation between $μ$ and $λ$.\n",
        "\n",
        "---\n",
        "\n"
      ],
      "metadata": {
        "id": "zyFWWgPiZyVo"
      }
    },
    {
      "cell_type": "markdown",
      "source": [
        "##Solution"
      ],
      "metadata": {
        "id": "5maA6uB-cOgX"
      }
    },
    {
      "cell_type": "code",
      "execution_count": null,
      "metadata": {
        "id": "fT9fGWcfZVWU"
      },
      "outputs": [],
      "source": [
        "import numpy as np\n",
        "import networkx as nx\n",
        "\n",
        "#We create a dict called matrix to store iteratively the 12 matrices \n",
        "matrix = {}\n",
        "\n",
        "for index in range(1, 13):\n",
        "    \n",
        "    #Initialize each matrix as an np.array\n",
        "    matrix[str(index)] = np.array([])\n",
        "    \n",
        "    with open(f\"P{index}.txt\") as file:\n",
        "        for line in file:\n",
        "            #We replace the end of line with nothing to avoid problems while parsing\n",
        "            line = line.replace(\"\\n\", \"\")\n",
        "            for char in line:\n",
        "                #We iteratively append the numbers adding them to the columns \n",
        "                matrix[str(index)] = np.append(matrix[str(index)], int(char))\n",
        "    \n",
        "    #We reshape the matrix\n",
        "    matrix[str(index)] = np.reshape(matrix[str(index)], (10, 80))\n",
        "    #And we normalize using them lcm \n",
        "    if index == 10:\n",
        "        matrix[str(index)] = matrix[str(index)] * 80\n",
        "    else:\n",
        "        matrix[str(index)] = matrix[str(index)] * 39   \n",
        "\n",
        "#We will calculate the distances of the image from the one called P1\n",
        "\n",
        "#We start by creating tuples of three elements where for the first matrix we save\n",
        "#the value of the pixels different from zero and their position in the matrix \n",
        "l1 = []\n",
        "auxiliary_lists = {}\n",
        "auxiliary_graphs = {}\n",
        "distances = {}\n",
        "\n",
        "for i in range (10):\n",
        "    for j in range (80):\n",
        "        if matrix[\"1\"][i][j] != 0:\n",
        "            l1.append((matrix[\"1\"][i][j],i,j))\n",
        "\n",
        "#We do the same for all the other matrixes and then we use the column distance \n",
        "#as weight to calculate the min_cost_flow\n",
        "\n",
        "for k in range (2, 13):\n",
        "    \n",
        "    auxiliary_lists[str(k)] = []\n",
        "    \n",
        "    for i in range (10):\n",
        "        for j in range (80):\n",
        "            if matrix[str(k)][i][j] != 0:\n",
        "                auxiliary_lists[str(k)].append((matrix[str(k)][i][j],i,j)) \n",
        "                \n",
        "    auxiliary_graphs[str(k)] = nx.DiGraph()\n",
        "    \n",
        "    for i in range (12):\n",
        "        auxiliary_graphs[str(k)].add_node(l1[i], demand = -l1[i][0])\n",
        "        auxiliary_graphs[str(k)].add_node(auxiliary_lists[str(k)][i], \n",
        "                                          demand =  auxiliary_lists[str(k)][i][0])\n",
        "    \n",
        "    for i in range (12):\n",
        "        for j in range(12):\n",
        "            auxiliary_graphs[str(k)].add_edge(l1[i], auxiliary_lists[str(k)][j], \n",
        "                                              weight = (auxiliary_lists[str(k)][j][2]-l1[i][2])%80)\n",
        "    \n",
        "    distances[str(k)] = nx.min_cost_flow_cost(auxiliary_graphs[str(k)])\n",
        "\n",
        "#Nice visual representation of one of the graphs :)\n",
        "nx.draw_shell(auxiliary_graphs[\"2\"], node_color = \"red\")\n",
        "\n",
        "#We eventually order and print the results     \n",
        "print(1, end = \" \")    \n",
        "[print(key, end = \" \") for (key, value) in sorted(distances.items() ,  key=lambda x: x[1]  ) ]\n"
      ]
    }
  ]
}
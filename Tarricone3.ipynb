{
  "cells": [
    {
      "cell_type": "markdown",
      "metadata": {
        "id": "view-in-github",
        "colab_type": "text"
      },
      "source": [
        "<a href=\"https://colab.research.google.com/github/LorenzoTarricone/Advnced-Programming-and-Optimization-Algorithm/blob/main/Tarricone3.ipynb\" target=\"_parent\"><img src=\"https://colab.research.google.com/assets/colab-badge.svg\" alt=\"Open In Colab\"/></a>"
      ]
    },
    {
      "cell_type": "markdown",
      "metadata": {
        "id": "nqOpJ-bjubxy"
      },
      "source": [
        "# Assignment 3\n",
        "Lorenzo Tarricone (3141667)"
      ]
    },
    {
      "cell_type": "markdown",
      "source": [
        "Use the PuLP library https://pypi.org/project/PuLP/ to solve the following problems. Documentation to PuLP can be found here: https://coin-or.github.io/pulp/main/index.html\n",
        "\n",
        "###Bakery problem (20 points)\n",
        "Consider a small bakery with a single oven. It needs to schedule baking of n pastries, each of them having three requirements:\n",
        "\n",
        "time when the preparations are done and pastry is ready for baking\n",
        "time needed for baking, i.e., for how long should it remain in the oven\n",
        "deadline: time when the custommer comes to pick up the pastry\n",
        "At each moment, only one kind of pastry can be present in the oven.\n",
        "Use an ILP to find a shortest baking schedule. Schedule, in this context, is a set of starting times s1, ..., sn denoting when should each pastry be put into oven. Note: these times need not be integral. However, integral variables will be useful to enforce that the periods when two different kinds of pastries are in the oven do not overlap.\n",
        "\n",
        "Let us denote $e_1$, ..., $e_n$ the ending times of baking of each of the pastries, i.e., $e_i = s_i + baking time of pastry_i$. We need to make sure that for each two pastries $i,j$, one of the following needs to be true: $e_i ≤ s_j$ or $e_j ≤ s_i$. Obviously, they cannot hold at the same time and it depends on the precedence between i and j which one is true. Since we do not know the precedence in advance, which of these constraints should we include in the LP?\n",
        "\n",
        "###Big-M method\n",
        "This name usually refers to an alternative way how to start the simplex method without knowledge of the initial basic feasible solution. We did not cover this in the class and I do not go into details of this here either. But the other meaning of Big-M is a method for switching someof the constraints on/off depending on the value of some binary variable.\n",
        "\n",
        "Imagine, we have variable x which should be bounded by $10$ if and only if some binary variable $z$ is set to zero. Also, assume that there is no reason to increase x beyound some large number $M$ (e.g., because we are minimizing over $x$, or we know that no feasible solution can have $x > M$ for some other reasons). Then, we can write $x ≤ 10 + Mz$: if $z$ is $0$, this switches the constraint ON. If $z=1$, this constraint evaluates to $x ≤ 10 + M$ which, by choice of $M$ is satisfied by any reasonable solution to our LP and this effectively switches the costraint OFF. Usually, due to possible numerical issues, it is recommended to use $M$ as small as possible. You can check the following blog for more discussion of big-M: https://orinanobworld.blogspot.com/2011/07/perils-of-big-m.html.\n",
        "\n",
        "You may check that there is a suitable choice of $M$ in our problem and use this approach in your solution.\n",
        "\n",
        "###Input\n",
        "Text file containing a single line for each kind of pastry consisting of four numbers (integers) separated by spaces:\n",
        "\n",
        "`ID PRE DLN BAK`\n",
        "\n",
        "`ID` denotes the numerical `ID` of the pastry, `PRE` the time since midnight since when the pastry is ready for baking, `BAK` is the time it needs to spend in the oven, and `DLN` is the deadline when the pastry needs to be surely finished.\n",
        "All times are in seconds.\n",
        "\n",
        "###Output\n",
        "List of starting times of each pastry. Should look like this:\n",
        "```\n",
        "s1: 23.0\n",
        "s2: 4.0\n",
        "s3: 25.0\n",
        "s4: 72.0\n",
        "s5: 34.0\n",
        "```\n",
        "...\n",
        "###Bakery problem visualization (10 points)\n",
        "Use library matplotlib to visualize your solution suitably. I leave to your creativity how to do it, but it should be clear what are the moments when oven needs to be open, what pastry goes out and what should be put in. There are many other things to visualize: expected arrivals of custommers and times when each pastry is ready, critical preparations (which pastry needs special care to be prepared on time, otherwise it would delay the whole schedule, etc). The main criterion for evaluation of this will be clarity and information it provides.\n",
        "\n"
      ],
      "metadata": {
        "id": "yvsnqQyLU8-P"
      }
    },
    {
      "cell_type": "markdown",
      "source": [
        "---"
      ],
      "metadata": {
        "id": "rlRnS95ZXEKC"
      }
    },
    {
      "cell_type": "markdown",
      "metadata": {
        "id": "lO1Yj2J3ustu"
      },
      "source": [
        "## Solving the problem"
      ]
    },
    {
      "cell_type": "markdown",
      "metadata": {
        "id": "HVlK2-7guLRD"
      },
      "source": [
        "We start by installing the packages needed for the manipulation of the data and for finding the solution to the problem"
      ]
    },
    {
      "cell_type": "code",
      "execution_count": null,
      "metadata": {
        "colab": {
          "base_uri": "https://localhost:8080/"
        },
        "id": "SyQhUuN7IhTR",
        "outputId": "c9bbfb3c-f656-4d29-cf05-01ca45fa75e9"
      },
      "outputs": [
        {
          "output_type": "stream",
          "name": "stdout",
          "text": [
            "Collecting pulp\n",
            "  Downloading PuLP-2.6.0-py3-none-any.whl (14.2 MB)\n",
            "\u001b[K     |████████████████████████████████| 14.2 MB 23.8 MB/s \n",
            "\u001b[?25hInstalling collected packages: pulp\n",
            "Successfully installed pulp-2.6.0\n"
          ]
        }
      ],
      "source": [
        "!pip install pulp\n",
        "from pulp import *\n",
        "import numpy as np\n",
        "import pandas as pd\n",
        "# from itertools import product"
      ]
    },
    {
      "cell_type": "markdown",
      "metadata": {
        "id": "P0BczdQTu3Ap"
      },
      "source": [
        "Running the chun of code below a botton called \"Choose files\" will appear, letting you choosing the file from your pc, please select 'bakery.txt' that is the file provided in the assignment"
      ]
    },
    {
      "cell_type": "code",
      "execution_count": null,
      "metadata": {
        "colab": {
          "base_uri": "https://localhost:8080/",
          "height": 70,
          "resources": {
            "http://localhost:8080/nbextensions/google.colab/files.js": {
              "data": "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",
              "headers": [
                [
                  "content-type",
                  "application/javascript"
                ]
              ],
              "ok": true,
              "status": 200,
              "status_text": ""
            }
          }
        },
        "id": "w1UVUc48Ljmu",
        "outputId": "68c80ca9-adb4-4d3b-ad4b-6fd456f8e4ac"
      },
      "outputs": [
        {
          "output_type": "display_data",
          "data": {
            "text/plain": [
              "<IPython.core.display.HTML object>"
            ],
            "text/html": [
              "\n",
              "     <input type=\"file\" id=\"files-532c29ac-8cba-4a14-af0b-fdf73291305d\" name=\"files[]\" multiple disabled\n",
              "        style=\"border:none\" />\n",
              "     <output id=\"result-532c29ac-8cba-4a14-af0b-fdf73291305d\">\n",
              "      Upload widget is only available when the cell has been executed in the\n",
              "      current browser session. Please rerun this cell to enable.\n",
              "      </output>\n",
              "      <script src=\"/nbextensions/google.colab/files.js\"></script> "
            ]
          },
          "metadata": {}
        },
        {
          "output_type": "stream",
          "name": "stdout",
          "text": [
            "Saving bakery.txt to bakery.txt\n"
          ]
        }
      ],
      "source": [
        "from google.colab import files\n",
        "uploaded = files.upload()"
      ]
    },
    {
      "cell_type": "markdown",
      "metadata": {
        "id": "9SfjHsltvvcp"
      },
      "source": [
        "We create the table"
      ]
    },
    {
      "cell_type": "code",
      "execution_count": null,
      "metadata": {
        "id": "DohkAZ_mLqdB"
      },
      "outputs": [],
      "source": [
        "import io\n",
        "data = pd.read_csv(io.BytesIO(uploaded['bakery.txt']), sep = \" \", header = None )\n",
        "data.columns = [\"ID\", \"PRE\", \"DLN\", \"BAK\"]"
      ]
    },
    {
      "cell_type": "markdown",
      "metadata": {
        "id": "VnT4CZ6YvxVu"
      },
      "source": [
        "We visualize the table"
      ]
    },
    {
      "cell_type": "code",
      "execution_count": null,
      "metadata": {
        "colab": {
          "base_uri": "https://localhost:8080/",
          "height": 582
        },
        "id": "wfWmS8uFMgL5",
        "outputId": "f8808d2a-64a2-4733-f25a-6f14bd0966ae"
      },
      "outputs": [
        {
          "output_type": "execute_result",
          "data": {
            "text/plain": [
              "    ID    PRE    DLN   BAK\n",
              "0    0   4800   9600   600\n",
              "1    1   5400  27000   600\n",
              "2    2      0    600   600\n",
              "3    3   3000   5400   600\n",
              "4    4   1200   4200   600\n",
              "5    5   3000  10800  1200\n",
              "6    6   9000  15000  1200\n",
              "7    7   8400  14400  1200\n",
              "8    8   1200  20400  1200\n",
              "9    9    600  24600  1200\n",
              "10  10   1800  25200  1200\n",
              "11  11  15000  24000  1800\n",
              "12  12  13800  18600  1800\n",
              "13  13   2400  24000  1800\n",
              "14  14   9600  15000  1800\n",
              "15  15   3600   9000  2400\n",
              "16  16   1800   5400  2400"
            ],
            "text/html": [
              "\n",
              "  <div id=\"df-fe0f06f5-fb55-4641-833e-321bd660416c\">\n",
              "    <div class=\"colab-df-container\">\n",
              "      <div>\n",
              "<style scoped>\n",
              "    .dataframe tbody tr th:only-of-type {\n",
              "        vertical-align: middle;\n",
              "    }\n",
              "\n",
              "    .dataframe tbody tr th {\n",
              "        vertical-align: top;\n",
              "    }\n",
              "\n",
              "    .dataframe thead th {\n",
              "        text-align: right;\n",
              "    }\n",
              "</style>\n",
              "<table border=\"1\" class=\"dataframe\">\n",
              "  <thead>\n",
              "    <tr style=\"text-align: right;\">\n",
              "      <th></th>\n",
              "      <th>ID</th>\n",
              "      <th>PRE</th>\n",
              "      <th>DLN</th>\n",
              "      <th>BAK</th>\n",
              "    </tr>\n",
              "  </thead>\n",
              "  <tbody>\n",
              "    <tr>\n",
              "      <th>0</th>\n",
              "      <td>0</td>\n",
              "      <td>4800</td>\n",
              "      <td>9600</td>\n",
              "      <td>600</td>\n",
              "    </tr>\n",
              "    <tr>\n",
              "      <th>1</th>\n",
              "      <td>1</td>\n",
              "      <td>5400</td>\n",
              "      <td>27000</td>\n",
              "      <td>600</td>\n",
              "    </tr>\n",
              "    <tr>\n",
              "      <th>2</th>\n",
              "      <td>2</td>\n",
              "      <td>0</td>\n",
              "      <td>600</td>\n",
              "      <td>600</td>\n",
              "    </tr>\n",
              "    <tr>\n",
              "      <th>3</th>\n",
              "      <td>3</td>\n",
              "      <td>3000</td>\n",
              "      <td>5400</td>\n",
              "      <td>600</td>\n",
              "    </tr>\n",
              "    <tr>\n",
              "      <th>4</th>\n",
              "      <td>4</td>\n",
              "      <td>1200</td>\n",
              "      <td>4200</td>\n",
              "      <td>600</td>\n",
              "    </tr>\n",
              "    <tr>\n",
              "      <th>5</th>\n",
              "      <td>5</td>\n",
              "      <td>3000</td>\n",
              "      <td>10800</td>\n",
              "      <td>1200</td>\n",
              "    </tr>\n",
              "    <tr>\n",
              "      <th>6</th>\n",
              "      <td>6</td>\n",
              "      <td>9000</td>\n",
              "      <td>15000</td>\n",
              "      <td>1200</td>\n",
              "    </tr>\n",
              "    <tr>\n",
              "      <th>7</th>\n",
              "      <td>7</td>\n",
              "      <td>8400</td>\n",
              "      <td>14400</td>\n",
              "      <td>1200</td>\n",
              "    </tr>\n",
              "    <tr>\n",
              "      <th>8</th>\n",
              "      <td>8</td>\n",
              "      <td>1200</td>\n",
              "      <td>20400</td>\n",
              "      <td>1200</td>\n",
              "    </tr>\n",
              "    <tr>\n",
              "      <th>9</th>\n",
              "      <td>9</td>\n",
              "      <td>600</td>\n",
              "      <td>24600</td>\n",
              "      <td>1200</td>\n",
              "    </tr>\n",
              "    <tr>\n",
              "      <th>10</th>\n",
              "      <td>10</td>\n",
              "      <td>1800</td>\n",
              "      <td>25200</td>\n",
              "      <td>1200</td>\n",
              "    </tr>\n",
              "    <tr>\n",
              "      <th>11</th>\n",
              "      <td>11</td>\n",
              "      <td>15000</td>\n",
              "      <td>24000</td>\n",
              "      <td>1800</td>\n",
              "    </tr>\n",
              "    <tr>\n",
              "      <th>12</th>\n",
              "      <td>12</td>\n",
              "      <td>13800</td>\n",
              "      <td>18600</td>\n",
              "      <td>1800</td>\n",
              "    </tr>\n",
              "    <tr>\n",
              "      <th>13</th>\n",
              "      <td>13</td>\n",
              "      <td>2400</td>\n",
              "      <td>24000</td>\n",
              "      <td>1800</td>\n",
              "    </tr>\n",
              "    <tr>\n",
              "      <th>14</th>\n",
              "      <td>14</td>\n",
              "      <td>9600</td>\n",
              "      <td>15000</td>\n",
              "      <td>1800</td>\n",
              "    </tr>\n",
              "    <tr>\n",
              "      <th>15</th>\n",
              "      <td>15</td>\n",
              "      <td>3600</td>\n",
              "      <td>9000</td>\n",
              "      <td>2400</td>\n",
              "    </tr>\n",
              "    <tr>\n",
              "      <th>16</th>\n",
              "      <td>16</td>\n",
              "      <td>1800</td>\n",
              "      <td>5400</td>\n",
              "      <td>2400</td>\n",
              "    </tr>\n",
              "  </tbody>\n",
              "</table>\n",
              "</div>\n",
              "      <button class=\"colab-df-convert\" onclick=\"convertToInteractive('df-fe0f06f5-fb55-4641-833e-321bd660416c')\"\n",
              "              title=\"Convert this dataframe to an interactive table.\"\n",
              "              style=\"display:none;\">\n",
              "        \n",
              "  <svg xmlns=\"http://www.w3.org/2000/svg\" height=\"24px\"viewBox=\"0 0 24 24\"\n",
              "       width=\"24px\">\n",
              "    <path d=\"M0 0h24v24H0V0z\" fill=\"none\"/>\n",
              "    <path d=\"M18.56 5.44l.94 2.06.94-2.06 2.06-.94-2.06-.94-.94-2.06-.94 2.06-2.06.94zm-11 1L8.5 8.5l.94-2.06 2.06-.94-2.06-.94L8.5 2.5l-.94 2.06-2.06.94zm10 10l.94 2.06.94-2.06 2.06-.94-2.06-.94-.94-2.06-.94 2.06-2.06.94z\"/><path d=\"M17.41 7.96l-1.37-1.37c-.4-.4-.92-.59-1.43-.59-.52 0-1.04.2-1.43.59L10.3 9.45l-7.72 7.72c-.78.78-.78 2.05 0 2.83L4 21.41c.39.39.9.59 1.41.59.51 0 1.02-.2 1.41-.59l7.78-7.78 2.81-2.81c.8-.78.8-2.07 0-2.86zM5.41 20L4 18.59l7.72-7.72 1.47 1.35L5.41 20z\"/>\n",
              "  </svg>\n",
              "      </button>\n",
              "      \n",
              "  <style>\n",
              "    .colab-df-container {\n",
              "      display:flex;\n",
              "      flex-wrap:wrap;\n",
              "      gap: 12px;\n",
              "    }\n",
              "\n",
              "    .colab-df-convert {\n",
              "      background-color: #E8F0FE;\n",
              "      border: none;\n",
              "      border-radius: 50%;\n",
              "      cursor: pointer;\n",
              "      display: none;\n",
              "      fill: #1967D2;\n",
              "      height: 32px;\n",
              "      padding: 0 0 0 0;\n",
              "      width: 32px;\n",
              "    }\n",
              "\n",
              "    .colab-df-convert:hover {\n",
              "      background-color: #E2EBFA;\n",
              "      box-shadow: 0px 1px 2px rgba(60, 64, 67, 0.3), 0px 1px 3px 1px rgba(60, 64, 67, 0.15);\n",
              "      fill: #174EA6;\n",
              "    }\n",
              "\n",
              "    [theme=dark] .colab-df-convert {\n",
              "      background-color: #3B4455;\n",
              "      fill: #D2E3FC;\n",
              "    }\n",
              "\n",
              "    [theme=dark] .colab-df-convert:hover {\n",
              "      background-color: #434B5C;\n",
              "      box-shadow: 0px 1px 3px 1px rgba(0, 0, 0, 0.15);\n",
              "      filter: drop-shadow(0px 1px 2px rgba(0, 0, 0, 0.3));\n",
              "      fill: #FFFFFF;\n",
              "    }\n",
              "  </style>\n",
              "\n",
              "      <script>\n",
              "        const buttonEl =\n",
              "          document.querySelector('#df-fe0f06f5-fb55-4641-833e-321bd660416c button.colab-df-convert');\n",
              "        buttonEl.style.display =\n",
              "          google.colab.kernel.accessAllowed ? 'block' : 'none';\n",
              "\n",
              "        async function convertToInteractive(key) {\n",
              "          const element = document.querySelector('#df-fe0f06f5-fb55-4641-833e-321bd660416c');\n",
              "          const dataTable =\n",
              "            await google.colab.kernel.invokeFunction('convertToInteractive',\n",
              "                                                     [key], {});\n",
              "          if (!dataTable) return;\n",
              "\n",
              "          const docLinkHtml = 'Like what you see? Visit the ' +\n",
              "            '<a target=\"_blank\" href=https://colab.research.google.com/notebooks/data_table.ipynb>data table notebook</a>'\n",
              "            + ' to learn more about interactive tables.';\n",
              "          element.innerHTML = '';\n",
              "          dataTable['output_type'] = 'display_data';\n",
              "          await google.colab.output.renderOutput(dataTable, element);\n",
              "          const docLink = document.createElement('div');\n",
              "          docLink.innerHTML = docLinkHtml;\n",
              "          element.appendChild(docLink);\n",
              "        }\n",
              "      </script>\n",
              "    </div>\n",
              "  </div>\n",
              "  "
            ]
          },
          "metadata": {},
          "execution_count": 4
        }
      ],
      "source": [
        "data"
      ]
    },
    {
      "cell_type": "code",
      "execution_count": null,
      "metadata": {
        "id": "XKyjFY_YNL4j"
      },
      "outputs": [],
      "source": [
        "#We estimate the big value M in such a way that is big enough, but not that big to cause problems \n",
        "M = max(data[\"DLN\"]) + 1000 "
      ]
    },
    {
      "cell_type": "markdown",
      "metadata": {
        "id": "khwkG19OwM4C"
      },
      "source": [
        "Here we define all the other variables"
      ]
    },
    {
      "cell_type": "code",
      "execution_count": null,
      "metadata": {
        "id": "TikJ2l6GNxAp"
      },
      "outputs": [],
      "source": [
        "#We start by defining the problem and the relative variables\n",
        "problem = LpProblem(\"Bakery\", LpMinimize)\n",
        "\n",
        "#Create the target variables\n",
        "DUR = LpVariable(\"DUR\", lowBound= 0, cat=\"Continuous\")\n",
        "\n",
        "#Create the starting time variables \n",
        "s = LpVariable.dicts(\"s\", [i for i in range(17)], cat=\"Continuous\")\n",
        "\n",
        "#Create the auxiliary binary variables (also needed for the big M method)\n",
        "z = LpVariable.dicts(\"z\", [(i, j) for i in range(17) for j in range(17)], cat= \"Binary\") \n"
      ]
    },
    {
      "cell_type": "markdown",
      "metadata": {
        "id": "2mJm9XT8xQ-S"
      },
      "source": [
        "Here we define the constraints, solve and check the status of the problem"
      ]
    },
    {
      "cell_type": "code",
      "execution_count": null,
      "metadata": {
        "colab": {
          "base_uri": "https://localhost:8080/",
          "height": 35
        },
        "id": "juyCQpGwgDvd",
        "outputId": "261671f9-a7d2-4114-a973-7c718ceaa9bd"
      },
      "outputs": [
        {
          "output_type": "execute_result",
          "data": {
            "text/plain": [
              "'Optimal'"
            ],
            "application/vnd.google.colaboratory.intrinsic+json": {
              "type": "string"
            }
          },
          "metadata": {},
          "execution_count": 8
        }
      ],
      "source": [
        "#We define now the objective function\n",
        "problem += (DUR, \"Objective: we want to minimize the total duration of the process \")\n",
        "\n",
        "#We add the constraints\n",
        "for i in range(17):\n",
        "  problem += s[i] >= data[\"PRE\"][i]\n",
        "  problem += s[i] <= (data[\"DLN\"][i] - data[\"BAK\"][i])\n",
        "\n",
        "\n",
        "for j in range(17):\n",
        "  for k in range(17):\n",
        "    if j != k: \n",
        "      problem += s[j] >= (s[k] + data[\"BAK\"][k] - M * z[j, k])\n",
        "      problem += s[k] >= (s[j] + data[\"BAK\"][j] - M + M * z[j, k])\n",
        "  \n",
        "for i in range(17):\n",
        "  problem += DUR >= (s[i] + data[\"BAK\"][i])\n",
        "\n",
        "#We call the solver\n",
        "problem.solve()\n",
        "LpStatus[problem.status] "
      ]
    },
    {
      "cell_type": "markdown",
      "metadata": {
        "id": "5LxhicB-xfhy"
      },
      "source": [
        "Here we print out the variables we are interested in"
      ]
    },
    {
      "cell_type": "code",
      "execution_count": null,
      "metadata": {
        "colab": {
          "base_uri": "https://localhost:8080/"
        },
        "id": "qsgB7DSZIUjx",
        "outputId": "3078e25e-b9cf-4608-ba82-982d7332fc44"
      },
      "outputs": [
        {
          "output_type": "stream",
          "name": "stdout",
          "text": [
            "The whole process will last until: 22200.0\n",
            "s_0 : 7800.0\n",
            "s_1 : 19800.0\n",
            "s_2 : 0.0\n",
            "s_3 : 4800.0\n",
            "s_4 : 1800.0\n",
            "s_5 : 8400.0\n",
            "s_6 : 11400.0\n",
            "s_7 : 12600.0\n",
            "s_8 : 17400.0\n",
            "s_9 : 600.0\n",
            "s_10 : 18600.0\n",
            "s_11 : 15600.0\n",
            "s_12 : 13800.0\n",
            "s_13 : 20400.0\n",
            "s_14 : 9600.0\n",
            "s_15 : 5400.0\n",
            "s_16 : 2400.0\n"
          ]
        }
      ],
      "source": [
        "print(f\"The whole process will last until: {value(problem.objective)}\")\n",
        "for i in range(17):\n",
        "  print(s[i], \":\", s[i].varValue)"
      ]
    },
    {
      "cell_type": "markdown",
      "metadata": {
        "id": "aTvsl4lkxkrL"
      },
      "source": [
        "##Plotting the results"
      ]
    },
    {
      "cell_type": "markdown",
      "metadata": {
        "id": "YEnPdqBGx06l"
      },
      "source": [
        "Here i decided to use the interactive graph provided by the library 'ploty' that has an entire set of plotting functions dedicated to scheduling.\n",
        "\n",
        "The idea is to let the user with his/her mouse go over any border of the small rectangles in the plot and this will provide the details for that exact starting or finish time. \n",
        "The color is a scale from green to red and the more the end of the baking is close to the deadline the 'redder' the little rectangle will be.\n",
        "\n",
        "N.B. The method requires a coplete date to build the graph, I imagined that the process of baking starts at midnight of the $27^{th} March$, but this is a completely random date."
      ]
    },
    {
      "cell_type": "code",
      "execution_count": null,
      "metadata": {
        "colab": {
          "base_uri": "https://localhost:8080/",
          "height": 811
        },
        "id": "aNuraD78M7e6",
        "outputId": "4f08275b-5ae0-4920-d5d9-adfd1b4d4876"
      },
      "outputs": [
        {
          "output_type": "stream",
          "name": "stdout",
          "text": [
            "Requirement already satisfied: chart_studio in /usr/local/lib/python3.7/dist-packages (1.1.0)\n",
            "Requirement already satisfied: requests in /usr/local/lib/python3.7/dist-packages (from chart_studio) (2.23.0)\n",
            "Requirement already satisfied: retrying>=1.3.3 in /usr/local/lib/python3.7/dist-packages (from chart_studio) (1.3.3)\n",
            "Requirement already satisfied: plotly in /usr/local/lib/python3.7/dist-packages (from chart_studio) (5.5.0)\n",
            "Requirement already satisfied: six in /usr/local/lib/python3.7/dist-packages (from chart_studio) (1.15.0)\n",
            "Requirement already satisfied: tenacity>=6.2.0 in /usr/local/lib/python3.7/dist-packages (from plotly->chart_studio) (8.0.1)\n",
            "Requirement already satisfied: idna<3,>=2.5 in /usr/local/lib/python3.7/dist-packages (from requests->chart_studio) (2.10)\n",
            "Requirement already satisfied: chardet<4,>=3.0.2 in /usr/local/lib/python3.7/dist-packages (from requests->chart_studio) (3.0.4)\n",
            "Requirement already satisfied: certifi>=2017.4.17 in /usr/local/lib/python3.7/dist-packages (from requests->chart_studio) (2021.10.8)\n",
            "Requirement already satisfied: urllib3!=1.25.0,!=1.25.1,<1.26,>=1.21.1 in /usr/local/lib/python3.7/dist-packages (from requests->chart_studio) (1.24.3)\n"
          ]
        },
        {
          "output_type": "display_data",
          "data": {
            "text/html": [
              "<html>\n",
              "<head><meta charset=\"utf-8\" /></head>\n",
              "<body>\n",
              "    <div>            <script src=\"https://cdnjs.cloudflare.com/ajax/libs/mathjax/2.7.5/MathJax.js?config=TeX-AMS-MML_SVG\"></script><script type=\"text/javascript\">if (window.MathJax) {MathJax.Hub.Config({SVG: {font: \"STIX-Web\"}});}</script>                <script type=\"text/javascript\">window.PlotlyConfig = {MathJaxConfig: 'local'};</script>\n",
              "        <script src=\"https://cdn.plot.ly/plotly-2.8.3.min.js\"></script>                <div id=\"1af55761-e4f0-4d8a-8fae-15888382b80d\" class=\"plotly-graph-div\" style=\"height:600px; width:100%;\"></div>            <script type=\"text/javascript\">                                    window.PLOTLYENV=window.PLOTLYENV || {};                                    if (document.getElementById(\"1af55761-e4f0-4d8a-8fae-15888382b80d\")) {                    Plotly.newPlot(                        \"1af55761-e4f0-4d8a-8fae-15888382b80d\",                        [{\"fill\":\"toself\",\"fillcolor\":\"rgb(177.64, 66.44, 20.52)\",\"hoverinfo\":\"name\",\"legendgroup\":\"rgb(177.64, 66.44, 20.52)\",\"mode\":\"none\",\"name\":\"28\",\"showlegend\":false,\"x\":[\"2022-03-27 5:30:00\",\"2022-03-27 5:40:00\",\"2022-03-27 5:40:00\",\"2022-03-27 5:30:00\",\"2022-03-27 5:30:00\",\"2022-03-27 4:20:00\",\"2022-03-27 4:50:00\",\"2022-03-27 4:50:00\",\"2022-03-27 4:20:00\"],\"y\":[14.5,14.5,15.5,15.5,null,4.5,4.5,5.5,5.5],\"type\":\"scatter\"},{\"fill\":\"toself\",\"fillcolor\":\"rgb(186.99, 57.79, 20.07)\",\"hoverinfo\":\"name\",\"legendgroup\":\"rgb(186.99, 57.79, 20.07)\",\"mode\":\"none\",\"name\":\"23\",\"showlegend\":false,\"x\":[\"2022-03-27 5:10:00\",\"2022-03-27 5:30:00\",\"2022-03-27 5:30:00\",\"2022-03-27 5:10:00\"],\"y\":[5.5,5.5,6.5,6.5],\"type\":\"scatter\"},{\"fill\":\"toself\",\"fillcolor\":\"rgb(201.95, 43.95, 19.35)\",\"hoverinfo\":\"name\",\"legendgroup\":\"rgb(201.95, 43.95, 19.35)\",\"mode\":\"none\",\"name\":\"15\",\"showlegend\":false,\"x\":[\"2022-03-27 2:40:00\",\"2022-03-27 3:10:00\",\"2022-03-27 3:10:00\",\"2022-03-27 2:40:00\"],\"y\":[1.5,1.5,2.5,2.5],\"type\":\"scatter\"},{\"fill\":\"toself\",\"fillcolor\":\"rgb(205.69, 40.49, 19.17)\",\"hoverinfo\":\"name\",\"legendgroup\":\"rgb(205.69, 40.49, 19.17)\",\"mode\":\"none\",\"name\":\"13\",\"showlegend\":false,\"x\":[\"2022-03-27 3:50:00\",\"2022-03-27 4:20:00\",\"2022-03-27 4:20:00\",\"2022-03-27 3:50:00\"],\"y\":[3.5,3.5,4.5,4.5],\"type\":\"scatter\"},{\"fill\":\"toself\",\"fillcolor\":\"rgb(211.3, 35.3, 18.9)\",\"hoverinfo\":\"name\",\"legendgroup\":\"rgb(211.3, 35.3, 18.9)\",\"mode\":\"none\",\"name\":\"10\",\"showlegend\":false,\"x\":[\"2022-03-27 3:10:00\",\"2022-03-27 3:30:00\",\"2022-03-27 3:30:00\",\"2022-03-27 3:10:00\"],\"y\":[9.5,9.5,10.5,10.5],\"type\":\"scatter\"},{\"fill\":\"toself\",\"fillcolor\":\"rgb(216.91, 30.11, 18.63)\",\"hoverinfo\":\"name\",\"legendgroup\":\"rgb(216.91, 30.11, 18.63)\",\"mode\":\"none\",\"name\":\"7\",\"showlegend\":false,\"x\":[\"2022-03-27 0:30:00\",\"2022-03-27 0:40:00\",\"2022-03-27 0:40:00\",\"2022-03-27 0:30:00\",\"2022-03-27 0:30:00\",\"2022-03-27 4:50:00\",\"2022-03-27 5:10:00\",\"2022-03-27 5:10:00\",\"2022-03-27 4:50:00\",\"2022-03-27 4:50:00\",\"2022-03-27 5:40:00\",\"2022-03-27 6:10:00\",\"2022-03-27 6:10:00\",\"2022-03-27 5:40:00\"],\"y\":[11.5,11.5,12.5,12.5,null,7.5,7.5,8.5,8.5,null,2.5,2.5,3.5,3.5],\"type\":\"scatter\"},{\"fill\":\"toself\",\"fillcolor\":\"rgb(220.65, 26.65, 18.45)\",\"hoverinfo\":\"name\",\"legendgroup\":\"rgb(220.65, 26.65, 18.45)\",\"mode\":\"none\",\"name\":\"5\",\"showlegend\":false,\"x\":[\"2022-03-27 2:10:00\",\"2022-03-27 2:20:00\",\"2022-03-27 2:20:00\",\"2022-03-27 2:10:00\",\"2022-03-27 2:10:00\",\"2022-03-27 2:20:00\",\"2022-03-27 2:40:00\",\"2022-03-27 2:40:00\",\"2022-03-27 2:20:00\",\"2022-03-27 2:20:00\",\"2022-03-27 1:30:00\",\"2022-03-27 2:10:00\",\"2022-03-27 2:10:00\",\"2022-03-27 1:30:00\"],\"y\":[15.5,15.5,16.5,16.5,null,10.5,10.5,11.5,11.5,null,0.5,0.5,1.5,1.5],\"type\":\"scatter\"},{\"fill\":\"toself\",\"fillcolor\":\"rgb(226.26, 21.46, 18.18)\",\"hoverinfo\":\"name\",\"legendgroup\":\"rgb(226.26, 21.46, 18.18)\",\"mode\":\"none\",\"name\":\"2\",\"showlegend\":false,\"x\":[\"2022-03-27 3:30:00\",\"2022-03-27 3:50:00\",\"2022-03-27 3:50:00\",\"2022-03-27 3:30:00\",\"2022-03-27 3:30:00\",\"2022-03-27 0:40:00\",\"2022-03-27 1:20:00\",\"2022-03-27 1:20:00\",\"2022-03-27 0:40:00\"],\"y\":[8.5,8.5,9.5,9.5,null,-0.5,-0.5,0.5,0.5],\"type\":\"scatter\"},{\"fill\":\"toself\",\"fillcolor\":\"rgb(230.0, 18.0, 18.0)\",\"hoverinfo\":\"name\",\"legendgroup\":\"rgb(230.0, 18.0, 18.0)\",\"mode\":\"none\",\"name\":\"0\",\"showlegend\":false,\"x\":[\"2022-03-27 0:00:00\",\"2022-03-27 0:10:00\",\"2022-03-27 0:10:00\",\"2022-03-27 0:00:00\",\"2022-03-27 0:00:00\",\"2022-03-27 1:20:00\",\"2022-03-27 1:30:00\",\"2022-03-27 1:30:00\",\"2022-03-27 1:20:00\"],\"y\":[13.5,13.5,14.5,14.5,null,12.5,12.5,13.5,13.5],\"type\":\"scatter\"},{\"fill\":\"toself\",\"fillcolor\":\"rgb(43.0, 191.0, 27.0)\",\"hoverinfo\":\"name\",\"legendgroup\":\"rgb(43.0, 191.0, 27.0)\",\"mode\":\"none\",\"name\":\"100\",\"showlegend\":false,\"x\":[\"2022-03-27 0:10:00\",\"2022-03-27 0:30:00\",\"2022-03-27 0:30:00\",\"2022-03-27 0:10:00\"],\"y\":[6.5,6.5,7.5,7.5],\"type\":\"scatter\"},{\"legendgroup\":\"rgb(177.64, 66.44, 20.52)\",\"marker\":{\"color\":\"rgb(177.64, 66.44, 20.52)\",\"opacity\":0,\"size\":1},\"mode\":\"markers\",\"name\":\"\",\"showlegend\":false,\"text\":[null,null,null,null],\"x\":[\"2022-03-27 5:30:00\",\"2022-03-27 5:40:00\",\"2022-03-27 4:20:00\",\"2022-03-27 4:50:00\"],\"y\":[15,15,5,5],\"type\":\"scatter\"},{\"legendgroup\":\"rgb(186.99, 57.79, 20.07)\",\"marker\":{\"color\":\"rgb(186.99, 57.79, 20.07)\",\"opacity\":0,\"size\":1},\"mode\":\"markers\",\"name\":\"\",\"showlegend\":false,\"text\":[null,null],\"x\":[\"2022-03-27 5:10:00\",\"2022-03-27 5:30:00\"],\"y\":[6,6],\"type\":\"scatter\"},{\"legendgroup\":\"rgb(201.95, 43.95, 19.35)\",\"marker\":{\"color\":\"rgb(201.95, 43.95, 19.35)\",\"opacity\":0,\"size\":1},\"mode\":\"markers\",\"name\":\"\",\"showlegend\":false,\"text\":[null,null],\"x\":[\"2022-03-27 2:40:00\",\"2022-03-27 3:10:00\"],\"y\":[2,2],\"type\":\"scatter\"},{\"legendgroup\":\"rgb(205.69, 40.49, 19.17)\",\"marker\":{\"color\":\"rgb(205.69, 40.49, 19.17)\",\"opacity\":0,\"size\":1},\"mode\":\"markers\",\"name\":\"\",\"showlegend\":false,\"text\":[null,null],\"x\":[\"2022-03-27 3:50:00\",\"2022-03-27 4:20:00\"],\"y\":[4,4],\"type\":\"scatter\"},{\"legendgroup\":\"rgb(211.3, 35.3, 18.9)\",\"marker\":{\"color\":\"rgb(211.3, 35.3, 18.9)\",\"opacity\":0,\"size\":1},\"mode\":\"markers\",\"name\":\"\",\"showlegend\":false,\"text\":[null,null],\"x\":[\"2022-03-27 3:10:00\",\"2022-03-27 3:30:00\"],\"y\":[10,10],\"type\":\"scatter\"},{\"legendgroup\":\"rgb(216.91, 30.11, 18.63)\",\"marker\":{\"color\":\"rgb(216.91, 30.11, 18.63)\",\"opacity\":0,\"size\":1},\"mode\":\"markers\",\"name\":\"\",\"showlegend\":false,\"text\":[null,null,null,null,null,null],\"x\":[\"2022-03-27 0:30:00\",\"2022-03-27 0:40:00\",\"2022-03-27 4:50:00\",\"2022-03-27 5:10:00\",\"2022-03-27 5:40:00\",\"2022-03-27 6:10:00\"],\"y\":[12,12,8,8,3,3],\"type\":\"scatter\"},{\"legendgroup\":\"rgb(220.65, 26.65, 18.45)\",\"marker\":{\"color\":\"rgb(220.65, 26.65, 18.45)\",\"opacity\":0,\"size\":1},\"mode\":\"markers\",\"name\":\"\",\"showlegend\":false,\"text\":[null,null,null,null,null,null],\"x\":[\"2022-03-27 2:10:00\",\"2022-03-27 2:20:00\",\"2022-03-27 2:20:00\",\"2022-03-27 2:40:00\",\"2022-03-27 1:30:00\",\"2022-03-27 2:10:00\"],\"y\":[16,16,11,11,1,1],\"type\":\"scatter\"},{\"legendgroup\":\"rgb(226.26, 21.46, 18.18)\",\"marker\":{\"color\":\"rgb(226.26, 21.46, 18.18)\",\"opacity\":0,\"size\":1},\"mode\":\"markers\",\"name\":\"\",\"showlegend\":false,\"text\":[null,null,null,null],\"x\":[\"2022-03-27 3:30:00\",\"2022-03-27 3:50:00\",\"2022-03-27 0:40:00\",\"2022-03-27 1:20:00\"],\"y\":[9,9,0,0],\"type\":\"scatter\"},{\"legendgroup\":\"rgb(230.0, 18.0, 18.0)\",\"marker\":{\"color\":\"rgb(230.0, 18.0, 18.0)\",\"opacity\":0,\"size\":1},\"mode\":\"markers\",\"name\":\"\",\"showlegend\":false,\"text\":[null,null,null,null],\"x\":[\"2022-03-27 0:00:00\",\"2022-03-27 0:10:00\",\"2022-03-27 1:20:00\",\"2022-03-27 1:30:00\"],\"y\":[14,14,13,13],\"type\":\"scatter\"},{\"legendgroup\":\"rgb(43.0, 191.0, 27.0)\",\"marker\":{\"color\":\"rgb(43.0, 191.0, 27.0)\",\"opacity\":0,\"size\":1},\"mode\":\"markers\",\"name\":\"\",\"showlegend\":false,\"text\":[null,null],\"x\":[\"2022-03-27 0:10:00\",\"2022-03-27 0:30:00\"],\"y\":[7,7],\"type\":\"scatter\"}],                        {\"height\":600,\"hovermode\":\"closest\",\"showlegend\":false,\"title\":{\"text\":\"Bakery production (red products are the one which production end closer to the deadline)\"},\"xaxis\":{\"rangeselector\":{\"buttons\":[{\"count\":7,\"label\":\"1w\",\"step\":\"day\",\"stepmode\":\"backward\"},{\"count\":1,\"label\":\"1m\",\"step\":\"month\",\"stepmode\":\"backward\"},{\"count\":6,\"label\":\"6m\",\"step\":\"month\",\"stepmode\":\"backward\"},{\"count\":1,\"label\":\"YTD\",\"step\":\"year\",\"stepmode\":\"todate\"},{\"count\":1,\"label\":\"1y\",\"step\":\"year\",\"stepmode\":\"backward\"},{\"step\":\"all\"}]},\"showgrid\":true,\"type\":\"date\",\"zeroline\":false},\"yaxis\":{\"autorange\":false,\"range\":[-1,18],\"showgrid\":false,\"ticktext\":[\"Product 16\",\"Product 15\",\"Product 14\",\"Product 13\",\"Product 12\",\"Product 11\",\"Product 10\",\"Product 9\",\"Product 8\",\"Product 7\",\"Product 6\",\"Product 5\",\"Product 4\",\"Product 3\",\"Product 2\",\"Product 1\",\"Product 0\"],\"tickvals\":[0,1,2,3,4,5,6,7,8,9,10,11,12,13,14,15,16],\"zeroline\":false},\"template\":{\"data\":{\"bar\":[{\"error_x\":{\"color\":\"#2a3f5f\"},\"error_y\":{\"color\":\"#2a3f5f\"},\"marker\":{\"line\":{\"color\":\"#E5ECF6\",\"width\":0.5},\"pattern\":{\"fillmode\":\"overlay\",\"size\":10,\"solidity\":0.2}},\"type\":\"bar\"}],\"barpolar\":[{\"marker\":{\"line\":{\"color\":\"#E5ECF6\",\"width\":0.5},\"pattern\":{\"fillmode\":\"overlay\",\"size\":10,\"solidity\":0.2}},\"type\":\"barpolar\"}],\"carpet\":[{\"aaxis\":{\"endlinecolor\":\"#2a3f5f\",\"gridcolor\":\"white\",\"linecolor\":\"white\",\"minorgridcolor\":\"white\",\"startlinecolor\":\"#2a3f5f\"},\"baxis\":{\"endlinecolor\":\"#2a3f5f\",\"gridcolor\":\"white\",\"linecolor\":\"white\",\"minorgridcolor\":\"white\",\"startlinecolor\":\"#2a3f5f\"},\"type\":\"carpet\"}],\"choropleth\":[{\"colorbar\":{\"outlinewidth\":0,\"ticks\":\"\"},\"type\":\"choropleth\"}],\"contour\":[{\"colorbar\":{\"outlinewidth\":0,\"ticks\":\"\"},\"colorscale\":[[0.0,\"#0d0887\"],[0.1111111111111111,\"#46039f\"],[0.2222222222222222,\"#7201a8\"],[0.3333333333333333,\"#9c179e\"],[0.4444444444444444,\"#bd3786\"],[0.5555555555555556,\"#d8576b\"],[0.6666666666666666,\"#ed7953\"],[0.7777777777777778,\"#fb9f3a\"],[0.8888888888888888,\"#fdca26\"],[1.0,\"#f0f921\"]],\"type\":\"contour\"}],\"contourcarpet\":[{\"colorbar\":{\"outlinewidth\":0,\"ticks\":\"\"},\"type\":\"contourcarpet\"}],\"heatmap\":[{\"colorbar\":{\"outlinewidth\":0,\"ticks\":\"\"},\"colorscale\":[[0.0,\"#0d0887\"],[0.1111111111111111,\"#46039f\"],[0.2222222222222222,\"#7201a8\"],[0.3333333333333333,\"#9c179e\"],[0.4444444444444444,\"#bd3786\"],[0.5555555555555556,\"#d8576b\"],[0.6666666666666666,\"#ed7953\"],[0.7777777777777778,\"#fb9f3a\"],[0.8888888888888888,\"#fdca26\"],[1.0,\"#f0f921\"]],\"type\":\"heatmap\"}],\"heatmapgl\":[{\"colorbar\":{\"outlinewidth\":0,\"ticks\":\"\"},\"colorscale\":[[0.0,\"#0d0887\"],[0.1111111111111111,\"#46039f\"],[0.2222222222222222,\"#7201a8\"],[0.3333333333333333,\"#9c179e\"],[0.4444444444444444,\"#bd3786\"],[0.5555555555555556,\"#d8576b\"],[0.6666666666666666,\"#ed7953\"],[0.7777777777777778,\"#fb9f3a\"],[0.8888888888888888,\"#fdca26\"],[1.0,\"#f0f921\"]],\"type\":\"heatmapgl\"}],\"histogram\":[{\"marker\":{\"pattern\":{\"fillmode\":\"overlay\",\"size\":10,\"solidity\":0.2}},\"type\":\"histogram\"}],\"histogram2d\":[{\"colorbar\":{\"outlinewidth\":0,\"ticks\":\"\"},\"colorscale\":[[0.0,\"#0d0887\"],[0.1111111111111111,\"#46039f\"],[0.2222222222222222,\"#7201a8\"],[0.3333333333333333,\"#9c179e\"],[0.4444444444444444,\"#bd3786\"],[0.5555555555555556,\"#d8576b\"],[0.6666666666666666,\"#ed7953\"],[0.7777777777777778,\"#fb9f3a\"],[0.8888888888888888,\"#fdca26\"],[1.0,\"#f0f921\"]],\"type\":\"histogram2d\"}],\"histogram2dcontour\":[{\"colorbar\":{\"outlinewidth\":0,\"ticks\":\"\"},\"colorscale\":[[0.0,\"#0d0887\"],[0.1111111111111111,\"#46039f\"],[0.2222222222222222,\"#7201a8\"],[0.3333333333333333,\"#9c179e\"],[0.4444444444444444,\"#bd3786\"],[0.5555555555555556,\"#d8576b\"],[0.6666666666666666,\"#ed7953\"],[0.7777777777777778,\"#fb9f3a\"],[0.8888888888888888,\"#fdca26\"],[1.0,\"#f0f921\"]],\"type\":\"histogram2dcontour\"}],\"mesh3d\":[{\"colorbar\":{\"outlinewidth\":0,\"ticks\":\"\"},\"type\":\"mesh3d\"}],\"parcoords\":[{\"line\":{\"colorbar\":{\"outlinewidth\":0,\"ticks\":\"\"}},\"type\":\"parcoords\"}],\"pie\":[{\"automargin\":true,\"type\":\"pie\"}],\"scatter\":[{\"marker\":{\"colorbar\":{\"outlinewidth\":0,\"ticks\":\"\"}},\"type\":\"scatter\"}],\"scatter3d\":[{\"line\":{\"colorbar\":{\"outlinewidth\":0,\"ticks\":\"\"}},\"marker\":{\"colorbar\":{\"outlinewidth\":0,\"ticks\":\"\"}},\"type\":\"scatter3d\"}],\"scattercarpet\":[{\"marker\":{\"colorbar\":{\"outlinewidth\":0,\"ticks\":\"\"}},\"type\":\"scattercarpet\"}],\"scattergeo\":[{\"marker\":{\"colorbar\":{\"outlinewidth\":0,\"ticks\":\"\"}},\"type\":\"scattergeo\"}],\"scattergl\":[{\"marker\":{\"colorbar\":{\"outlinewidth\":0,\"ticks\":\"\"}},\"type\":\"scattergl\"}],\"scattermapbox\":[{\"marker\":{\"colorbar\":{\"outlinewidth\":0,\"ticks\":\"\"}},\"type\":\"scattermapbox\"}],\"scatterpolar\":[{\"marker\":{\"colorbar\":{\"outlinewidth\":0,\"ticks\":\"\"}},\"type\":\"scatterpolar\"}],\"scatterpolargl\":[{\"marker\":{\"colorbar\":{\"outlinewidth\":0,\"ticks\":\"\"}},\"type\":\"scatterpolargl\"}],\"scatterternary\":[{\"marker\":{\"colorbar\":{\"outlinewidth\":0,\"ticks\":\"\"}},\"type\":\"scatterternary\"}],\"surface\":[{\"colorbar\":{\"outlinewidth\":0,\"ticks\":\"\"},\"colorscale\":[[0.0,\"#0d0887\"],[0.1111111111111111,\"#46039f\"],[0.2222222222222222,\"#7201a8\"],[0.3333333333333333,\"#9c179e\"],[0.4444444444444444,\"#bd3786\"],[0.5555555555555556,\"#d8576b\"],[0.6666666666666666,\"#ed7953\"],[0.7777777777777778,\"#fb9f3a\"],[0.8888888888888888,\"#fdca26\"],[1.0,\"#f0f921\"]],\"type\":\"surface\"}],\"table\":[{\"cells\":{\"fill\":{\"color\":\"#EBF0F8\"},\"line\":{\"color\":\"white\"}},\"header\":{\"fill\":{\"color\":\"#C8D4E3\"},\"line\":{\"color\":\"white\"}},\"type\":\"table\"}]},\"layout\":{\"annotationdefaults\":{\"arrowcolor\":\"#2a3f5f\",\"arrowhead\":0,\"arrowwidth\":1},\"autotypenumbers\":\"strict\",\"coloraxis\":{\"colorbar\":{\"outlinewidth\":0,\"ticks\":\"\"}},\"colorscale\":{\"diverging\":[[0,\"#8e0152\"],[0.1,\"#c51b7d\"],[0.2,\"#de77ae\"],[0.3,\"#f1b6da\"],[0.4,\"#fde0ef\"],[0.5,\"#f7f7f7\"],[0.6,\"#e6f5d0\"],[0.7,\"#b8e186\"],[0.8,\"#7fbc41\"],[0.9,\"#4d9221\"],[1,\"#276419\"]],\"sequential\":[[0.0,\"#0d0887\"],[0.1111111111111111,\"#46039f\"],[0.2222222222222222,\"#7201a8\"],[0.3333333333333333,\"#9c179e\"],[0.4444444444444444,\"#bd3786\"],[0.5555555555555556,\"#d8576b\"],[0.6666666666666666,\"#ed7953\"],[0.7777777777777778,\"#fb9f3a\"],[0.8888888888888888,\"#fdca26\"],[1.0,\"#f0f921\"]],\"sequentialminus\":[[0.0,\"#0d0887\"],[0.1111111111111111,\"#46039f\"],[0.2222222222222222,\"#7201a8\"],[0.3333333333333333,\"#9c179e\"],[0.4444444444444444,\"#bd3786\"],[0.5555555555555556,\"#d8576b\"],[0.6666666666666666,\"#ed7953\"],[0.7777777777777778,\"#fb9f3a\"],[0.8888888888888888,\"#fdca26\"],[1.0,\"#f0f921\"]]},\"colorway\":[\"#636efa\",\"#EF553B\",\"#00cc96\",\"#ab63fa\",\"#FFA15A\",\"#19d3f3\",\"#FF6692\",\"#B6E880\",\"#FF97FF\",\"#FECB52\"],\"font\":{\"color\":\"#2a3f5f\"},\"geo\":{\"bgcolor\":\"white\",\"lakecolor\":\"white\",\"landcolor\":\"#E5ECF6\",\"showlakes\":true,\"showland\":true,\"subunitcolor\":\"white\"},\"hoverlabel\":{\"align\":\"left\"},\"hovermode\":\"closest\",\"mapbox\":{\"style\":\"light\"},\"paper_bgcolor\":\"white\",\"plot_bgcolor\":\"#E5ECF6\",\"polar\":{\"angularaxis\":{\"gridcolor\":\"white\",\"linecolor\":\"white\",\"ticks\":\"\"},\"bgcolor\":\"#E5ECF6\",\"radialaxis\":{\"gridcolor\":\"white\",\"linecolor\":\"white\",\"ticks\":\"\"}},\"scene\":{\"xaxis\":{\"backgroundcolor\":\"#E5ECF6\",\"gridcolor\":\"white\",\"gridwidth\":2,\"linecolor\":\"white\",\"showbackground\":true,\"ticks\":\"\",\"zerolinecolor\":\"white\"},\"yaxis\":{\"backgroundcolor\":\"#E5ECF6\",\"gridcolor\":\"white\",\"gridwidth\":2,\"linecolor\":\"white\",\"showbackground\":true,\"ticks\":\"\",\"zerolinecolor\":\"white\"},\"zaxis\":{\"backgroundcolor\":\"#E5ECF6\",\"gridcolor\":\"white\",\"gridwidth\":2,\"linecolor\":\"white\",\"showbackground\":true,\"ticks\":\"\",\"zerolinecolor\":\"white\"}},\"shapedefaults\":{\"line\":{\"color\":\"#2a3f5f\"}},\"ternary\":{\"aaxis\":{\"gridcolor\":\"white\",\"linecolor\":\"white\",\"ticks\":\"\"},\"baxis\":{\"gridcolor\":\"white\",\"linecolor\":\"white\",\"ticks\":\"\"},\"bgcolor\":\"#E5ECF6\",\"caxis\":{\"gridcolor\":\"white\",\"linecolor\":\"white\",\"ticks\":\"\"}},\"title\":{\"x\":0.05},\"xaxis\":{\"automargin\":true,\"gridcolor\":\"white\",\"linecolor\":\"white\",\"ticks\":\"\",\"title\":{\"standoff\":15},\"zerolinecolor\":\"white\",\"zerolinewidth\":2},\"yaxis\":{\"automargin\":true,\"gridcolor\":\"white\",\"linecolor\":\"white\",\"ticks\":\"\",\"title\":{\"standoff\":15},\"zerolinecolor\":\"white\",\"zerolinewidth\":2}}}},                        {\"responsive\": true}                    ).then(function(){\n",
              "                            \n",
              "var gd = document.getElementById('1af55761-e4f0-4d8a-8fae-15888382b80d');\n",
              "var x = new MutationObserver(function (mutations, observer) {{\n",
              "        var display = window.getComputedStyle(gd).display;\n",
              "        if (!display || display === 'none') {{\n",
              "            console.log([gd, 'removed!']);\n",
              "            Plotly.purge(gd);\n",
              "            observer.disconnect();\n",
              "        }}\n",
              "}});\n",
              "\n",
              "// Listen for the removal of the full notebook cells\n",
              "var notebookContainer = gd.closest('#notebook-container');\n",
              "if (notebookContainer) {{\n",
              "    x.observe(notebookContainer, {childList: true});\n",
              "}}\n",
              "\n",
              "// Listen for the clearing of the current output cell\n",
              "var outputEl = gd.closest('.output');\n",
              "if (outputEl) {{\n",
              "    x.observe(outputEl, {childList: true});\n",
              "}}\n",
              "\n",
              "                        })                };                            </script>        </div>\n",
              "</body>\n",
              "</html>"
            ]
          },
          "metadata": {}
        }
      ],
      "source": [
        "#We proceed with some plotting \n",
        "!pip install chart_studio\n",
        "import pandas as pd\n",
        "import chart_studio.plotly as py\n",
        "import plotly.figure_factory as ff\n",
        "import datetime\n",
        "\n",
        "#I define a dictionary where I'll save the data about times needed to build the graph\n",
        "j_record={}\n",
        "for i in range(17):\n",
        "  var_value = s[i].varValue\n",
        "  start_time=str(datetime.timedelta(seconds=var_value)) # convert seconds to hours, minutes and seconds\n",
        "  end_time=str(datetime.timedelta(seconds=var_value + data['BAK'][i]))\n",
        "  urgent = int((data['DLN'][i] - (var_value + data['BAK'][i]))/228)  \n",
        "  j_record[i]=[start_time, end_time, urgent]\n",
        "\n",
        "#The method requires a dataframe where the informations are stored, I use a for loop to iteratively add the data\n",
        "df=[]\n",
        "for j in range(17):\n",
        "  df.append(dict(Task=f'Product {j}', Start='2022-03-27 %s'%(str(j_record[j][0])), Finish='2022-03-27 %s'%(str(j_record[j][1])), Urgent = int(j_record[j][2])))\n",
        "\n",
        "#Actual plotting    \n",
        "fig = ff.create_gantt(df, \n",
        "                      colors=['rgb(230,18,18)','rgb(43,191,27)'], \n",
        "                      index_col='Urgent',  \n",
        "                      group_tasks=True, \n",
        "                      showgrid_x=True,\n",
        "                      bar_width=0.5,\n",
        "                      title='Bakery production (red products are the one which production end closer to the deadline)')\n",
        "fig.show()\n",
        "fig.write_html(\"interactive.html\")"
      ]
    }
  ],
  "metadata": {
    "colab": {
      "collapsed_sections": [],
      "name": "Tarricone3.ipynb",
      "provenance": [],
      "include_colab_link": true
    },
    "kernelspec": {
      "display_name": "Python 3",
      "name": "python3"
    },
    "language_info": {
      "name": "python"
    }
  },
  "nbformat": 4,
  "nbformat_minor": 0
}